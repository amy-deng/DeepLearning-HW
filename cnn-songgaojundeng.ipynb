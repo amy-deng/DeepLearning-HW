{
 "cells": [
  {
   "cell_type": "markdown",
   "metadata": {},
   "source": [
    "# Home 3: Build a CNN for image recognition.\n",
    "\n",
    "### Name: [Songgaojun Deng]\n"
   ]
  },
  {
   "cell_type": "markdown",
   "metadata": {},
   "source": [
    "## 0. You will do the following:\n",
    "\n",
    "1. Read, complete, and run my code.\n",
    "\n",
    "2. **Make substantial improvements** to maximize the accurcy.\n",
    "    \n",
    "3. Convert the .IPYNB file to .HTML file.\n",
    "\n",
    "    * The HTML file must contain the code and the output after execution.\n",
    "    \n",
    "4. Upload this .HTML file to your Github repo.\n",
    "\n",
    "4. Submit the link to this .HTML file to Canvas.\n",
    "\n",
    "    * Example: https://github.com/wangshusen/CS583A-2019Spring/blob/master/homework/HM3/cnn.html\n"
   ]
  },
  {
   "cell_type": "markdown",
   "metadata": {},
   "source": [
    "## 1. Data preparation\n",
    "### 1.1. Load data"
   ]
  },
  {
   "cell_type": "code",
   "execution_count": 1,
   "metadata": {},
   "outputs": [
    {
     "name": "stderr",
     "output_type": "stream",
     "text": [
      "Using TensorFlow backend.\n"
     ]
    },
    {
     "name": "stdout",
     "output_type": "stream",
     "text": [
      "shape of x_train: (50000, 32, 32, 3)\n",
      "shape of y_train: (50000, 1)\n",
      "shape of x_test: (10000, 32, 32, 3)\n",
      "shape of y_test: (10000, 1)\n",
      "number of classes: 10\n"
     ]
    }
   ],
   "source": [
    "from keras.datasets import cifar10\n",
    "import numpy\n",
    "\n",
    "(x_train, y_train), (x_test, y_test) = cifar10.load_data()\n",
    "\n",
    "print('shape of x_train: ' + str(x_train.shape))\n",
    "print('shape of y_train: ' + str(y_train.shape))\n",
    "print('shape of x_test: ' + str(x_test.shape))\n",
    "print('shape of y_test: ' + str(y_test.shape))\n",
    "print('number of classes: ' + str(numpy.max(y_train) - numpy.min(y_train) + 1))"
   ]
  },
  {
   "cell_type": "markdown",
   "metadata": {},
   "source": [
    "### 1.2. One-hot encode the labels\n",
    "\n",
    "In the input, a label is a scalar in $\\{0, 1, \\cdots , 9\\}$. One-hot encode transform such a scalar to a $10$-dim vector. E.g., a scalar ```y_train[j]=3``` is transformed to the vector ```y_train_vec[j]=[0, 0, 0, 1, 0, 0, 0, 0, 0, 0]```.\n",
    "\n",
    "1. Define a function ```to_one_hot``` that transforms an $n\\times 1$ array to a $n\\times 10$ matrix.\n",
    "\n",
    "2. Apply the function to ```y_train``` and ```y_test```."
   ]
  },
  {
   "cell_type": "code",
   "execution_count": 3,
   "metadata": {},
   "outputs": [
    {
     "name": "stdout",
     "output_type": "stream",
     "text": [
      "Shape of y_train_vec: (50000, 10)\n",
      "Shape of y_test_vec: (10000, 10)\n",
      "[6]\n",
      "[0. 0. 0. 0. 0. 0. 1. 0. 0. 0.]\n"
     ]
    }
   ],
   "source": [
    "def to_one_hot(y, num_class=10):\n",
    "    results = numpy.zeros((len(y), num_class))\n",
    "    for i, label in enumerate(y):\n",
    "        results[i, label] = 1.\n",
    "    return results\n",
    "\n",
    "y_train_vec = to_one_hot(y_train)\n",
    "y_test_vec = to_one_hot(y_test)\n",
    "\n",
    "print('Shape of y_train_vec: ' + str(y_train_vec.shape))\n",
    "print('Shape of y_test_vec: ' + str(y_test_vec.shape))\n",
    "\n",
    "print(y_train[0])\n",
    "print(y_train_vec[0])"
   ]
  },
  {
   "cell_type": "markdown",
   "metadata": {},
   "source": [
    "#### Remark: the outputs should be\n",
    "* Shape of y_train_vec: (50000, 10)\n",
    "* Shape of y_test_vec: (10000, 10)\n",
    "* [6]\n",
    "* [0. 0. 0. 0. 0. 0. 1. 0. 0. 0.]"
   ]
  },
  {
   "cell_type": "markdown",
   "metadata": {},
   "source": [
    "### 1.3. Randomly partition the training set to training and validation sets\n",
    "\n",
    "Randomly partition the 50K training samples to 2 sets:\n",
    "* a training set containing 40K samples\n",
    "* a validation set containing 10K samples\n"
   ]
  },
  {
   "cell_type": "code",
   "execution_count": 4,
   "metadata": {},
   "outputs": [
    {
     "name": "stdout",
     "output_type": "stream",
     "text": [
      "Shape of x_tr: (40000, 32, 32, 3)\n",
      "Shape of y_tr: (40000, 10)\n",
      "Shape of x_val: (10000, 32, 32, 3)\n",
      "Shape of y_val: (10000, 10)\n"
     ]
    }
   ],
   "source": [
    "rand_indices = numpy.random.permutation(50000)\n",
    "train_indices = rand_indices[0:40000]\n",
    "valid_indices = rand_indices[40000:50000]\n",
    "x_val = x_train[valid_indices, :]\n",
    "y_val = y_train_vec[valid_indices, :]\n",
    "\n",
    "x_tr = x_train[train_indices, :]\n",
    "y_tr = y_train_vec[train_indices, :]\n",
    "\n",
    "print('Shape of x_tr: ' + str(x_tr.shape))\n",
    "print('Shape of y_tr: ' + str(y_tr.shape))\n",
    "print('Shape of x_val: ' + str(x_val.shape))\n",
    "print('Shape of y_val: ' + str(y_val.shape))"
   ]
  },
  {
   "cell_type": "markdown",
   "metadata": {},
   "source": [
    "## 2. Build a CNN and tune its hyper-parameters\n",
    "\n",
    "1. Build a convolutional neural network model\n",
    "2. Use the validation data to tune the hyper-parameters (e.g., network structure, and optimization algorithm)\n",
    "    * Do NOT use test data for hyper-parameter tuning!!!\n",
    "3. Try to achieve a validation accuracy as high as possible."
   ]
  },
  {
   "cell_type": "markdown",
   "metadata": {},
   "source": [
    "### Remark: \n",
    "\n",
    "The following CNN is just an example. You are supposed to make **substantial improvements** such as:\n",
    "* Add more layers.\n",
    "* Use regularizations, e.g., dropout.\n",
    "* Use batch normalization."
   ]
  },
  {
   "cell_type": "code",
   "execution_count": 5,
   "metadata": {},
   "outputs": [],
   "source": [
    "# packages\n",
    "import os\n",
    "os.environ[\"CUDA_VISIBLE_DEVICES\"]=\"1\"; \n",
    "from keras.models import Sequential\n",
    "from keras import layers,optimizers\n",
    "from keras.preprocessing.image import ImageDataGenerator\n",
    "from keras.layers import Conv2D, MaxPooling2D, Flatten, Dense, Activation, Dropout, Input, Add\n",
    "from keras.layers.normalization import BatchNormalization\n",
    "\n",
    "import matplotlib.pyplot as plt\n",
    "import numpy as np\n",
    "%matplotlib inline"
   ]
  },
  {
   "cell_type": "code",
   "execution_count": 6,
   "metadata": {},
   "outputs": [],
   "source": [
    "# image augmentation\n",
    "datagen = ImageDataGenerator(\n",
    "    rotation_range=15,\n",
    "    horizontal_flip=True,\n",
    "    width_shift_range=0.1,\n",
    "    height_shift_range=0.1\n",
    "    )\n",
    "datagen.fit(x_train)"
   ]
  },
  {
   "cell_type": "code",
   "execution_count": 7,
   "metadata": {},
   "outputs": [
    {
     "data": {
      "image/png": "[encoded data removed]",
      "text/plain": [
       "<Figure size 432x288 with 9 Axes>"
      ]
     },
     "metadata": {
      "needs_background": "light"
     },
     "output_type": "display_data"
    }
   ],
   "source": [
    "#load data\n",
    "img_rows, img_cols , channels= 32,32,3\n",
    "for i in range(9):\n",
    "    plt.subplot(331 + i)\n",
    "    plt.imshow(x_train[i])\n",
    "plt.show()"
   ]
  },
  {
   "cell_type": "code",
   "execution_count": 8,
   "metadata": {},
   "outputs": [
    {
     "data": {
      "image/png": "[encoded data removed]",
      "text/plain": [
       "<Figure size 432x288 with 9 Axes>"
      ]
     },
     "metadata": {
      "needs_background": "light"
     },
     "output_type": "display_data"
    }
   ],
   "source": [
    "#augmentation images\n",
    "for X_batch, y_batch in datagen.flow(x_train, y_train, batch_size=9):\n",
    "    for i in range(9):\n",
    "        plt.subplot(331 + i)\n",
    "        plt.imshow(X_batch[i].astype(np.uint8))\n",
    "    plt.show()\n",
    "    break"
   ]
  },
  {
   "cell_type": "code",
   "execution_count": 9,
   "metadata": {},
   "outputs": [
    {
     "name": "stdout",
     "output_type": "stream",
     "text": [
      "_________________________________________________________________\n",
      "Layer (type)                 Output Shape              Param #   \n",
      "=================================================================\n",
      "conv2d_1 (Conv2D)            (None, 32, 32, 32)        896       \n",
      "_________________________________________________________________\n",
      "batch_normalization_1 (Batch (None, 32, 32, 32)        128       \n",
      "_________________________________________________________________\n",
      "activation_1 (Activation)    (None, 32, 32, 32)        0         \n",
      "_________________________________________________________________\n",
      "conv2d_2 (Conv2D)            (None, 32, 32, 32)        9248      \n",
      "_________________________________________________________________\n",
      "batch_normalization_2 (Batch (None, 32, 32, 32)        128       \n",
      "_________________________________________________________________\n",
      "activation_2 (Activation)    (None, 32, 32, 32)        0         \n",
      "_________________________________________________________________\n",
      "max_pooling2d_1 (MaxPooling2 (None, 16, 16, 32)        0         \n",
      "_________________________________________________________________\n",
      "conv2d_3 (Conv2D)            (None, 16, 16, 64)        18496     \n",
      "_________________________________________________________________\n",
      "batch_normalization_3 (Batch (None, 16, 16, 64)        256       \n",
      "_________________________________________________________________\n",
      "activation_3 (Activation)    (None, 16, 16, 64)        0         \n",
      "_________________________________________________________________\n",
      "conv2d_4 (Conv2D)            (None, 16, 16, 64)        36928     \n",
      "_________________________________________________________________\n",
      "batch_normalization_4 (Batch (None, 16, 16, 64)        256       \n",
      "_________________________________________________________________\n",
      "activation_4 (Activation)    (None, 16, 16, 64)        0         \n",
      "_________________________________________________________________\n",
      "max_pooling2d_2 (MaxPooling2 (None, 8, 8, 64)          0         \n",
      "_________________________________________________________________\n",
      "conv2d_5 (Conv2D)            (None, 8, 8, 128)         73856     \n",
      "_________________________________________________________________\n",
      "batch_normalization_5 (Batch (None, 8, 8, 128)         512       \n",
      "_________________________________________________________________\n",
      "activation_5 (Activation)    (None, 8, 8, 128)         0         \n",
      "_________________________________________________________________\n",
      "conv2d_6 (Conv2D)            (None, 8, 8, 128)         147584    \n",
      "_________________________________________________________________\n",
      "batch_normalization_6 (Batch (None, 8, 8, 128)         512       \n",
      "_________________________________________________________________\n",
      "activation_6 (Activation)    (None, 8, 8, 128)         0         \n",
      "_________________________________________________________________\n",
      "max_pooling2d_3 (MaxPooling2 (None, 4, 4, 128)         0         \n",
      "_________________________________________________________________\n",
      "flatten_1 (Flatten)          (None, 2048)              0         \n",
      "_________________________________________________________________\n",
      "dropout_1 (Dropout)          (None, 2048)              0         \n",
      "_________________________________________________________________\n",
      "dense_1 (Dense)              (None, 512)               1049088   \n",
      "_________________________________________________________________\n",
      "batch_normalization_7 (Batch (None, 512)               2048      \n",
      "_________________________________________________________________\n",
      "activation_7 (Activation)    (None, 512)               0         \n",
      "_________________________________________________________________\n",
      "dense_2 (Dense)              (None, 10)                5130      \n",
      "=================================================================\n",
      "Total params: 1,345,066\n",
      "Trainable params: 1,343,146\n",
      "Non-trainable params: 1,920\n",
      "_________________________________________________________________\n",
      "None\n"
     ]
    }
   ],
   "source": [
    "# build again, same model as model1\n",
    "\n",
    "input_shape = (32, 32, 3)\n",
    "optimizer = optimizers.Adam(lr=0.001, decay=0, beta_1=0.9, beta_2=0.999, epsilon=1e-08)\n",
    "\n",
    "model = Sequential()\n",
    "\n",
    "model.add(Conv2D(32, (3, 3), input_shape=input_shape, padding='same'))\n",
    "model.add(BatchNormalization())\n",
    "model.add(Activation('relu'))\n",
    "model.add(Conv2D(32, (3, 3), padding='same'))\n",
    "model.add(BatchNormalization())\n",
    "model.add(Activation('relu'))\n",
    "model.add(MaxPooling2D(pool_size=(2, 2)))   \n",
    "\n",
    "model.add(Conv2D(64, (3, 3), padding='same'))\n",
    "model.add(BatchNormalization())\n",
    "model.add(Activation('relu'))\n",
    "model.add(Conv2D(64, (3, 3), padding='same'))\n",
    "model.add(BatchNormalization())\n",
    "model.add(Activation('relu'))\n",
    "model.add(MaxPooling2D(pool_size=(2, 2)))  \n",
    "\n",
    "model.add(Conv2D(128, (3, 3), padding='same'))\n",
    "model.add(BatchNormalization())\n",
    "model.add(Activation('relu'))\n",
    "model.add(Conv2D(128, (3, 3), padding='same'))\n",
    "model.add(BatchNormalization())\n",
    "model.add(Activation('relu'))\n",
    "model.add(MaxPooling2D(pool_size=(2, 2)))  \n",
    "\n",
    "model.add(Flatten())\n",
    "model.add(Dropout(0.5))\n",
    "model.add(Dense(512))\n",
    "model.add(BatchNormalization())\n",
    "model.add(Activation('relu'))\n",
    "model.add(Dense(10, activation='softmax'))\n",
    "\n",
    "model.compile(loss='categorical_crossentropy', metrics=['accuracy'],optimizer=optimizer)\n",
    "print(model.summary())\n"
   ]
  },
  {
   "cell_type": "code",
   "execution_count": 10,
   "metadata": {},
   "outputs": [
    {
     "name": "stdout",
     "output_type": "stream",
     "text": [
      "Epoch 1/100\n",
      "391/390 [==============================] - 33s 85ms/step - loss: 1.4323 - acc: 0.4846 - val_loss: 1.2382 - val_acc: 0.5757\n",
      "Epoch 2/100\n",
      "391/390 [==============================] - 31s 80ms/step - loss: 1.0243 - acc: 0.6319 - val_loss: 0.9690 - val_acc: 0.6668\n",
      "Epoch 3/100\n",
      "391/390 [==============================] - 32s 81ms/step - loss: 0.8593 - acc: 0.6939 - val_loss: 1.0878 - val_acc: 0.6343\n",
      "Epoch 4/100\n",
      "391/390 [==============================] - 32s 81ms/step - loss: 0.7773 - acc: 0.7250 - val_loss: 1.1402 - val_acc: 0.6487\n",
      "Epoch 5/100\n",
      "391/390 [==============================] - 30s 76ms/step - loss: 0.7158 - acc: 0.7483 - val_loss: 0.7874 - val_acc: 0.7313\n",
      "Epoch 6/100\n",
      "391/390 [==============================] - 27s 70ms/step - loss: 0.6604 - acc: 0.7691 - val_loss: 0.6125 - val_acc: 0.7841\n",
      "Epoch 7/100\n",
      "391/390 [==============================] - 31s 78ms/step - loss: 0.6142 - acc: 0.7858 - val_loss: 0.6336 - val_acc: 0.7806\n",
      "Epoch 8/100\n",
      "391/390 [==============================] - 26s 66ms/step - loss: 0.5885 - acc: 0.7927 - val_loss: 1.0450 - val_acc: 0.6847\n",
      "Epoch 9/100\n",
      "391/390 [==============================] - 25s 65ms/step - loss: 0.5560 - acc: 0.8058 - val_loss: 0.7034 - val_acc: 0.7709\n",
      "Epoch 10/100\n",
      "391/390 [==============================] - 26s 68ms/step - loss: 0.5349 - acc: 0.8134 - val_loss: 0.6648 - val_acc: 0.7816\n",
      "Epoch 11/100\n",
      "391/390 [==============================] - 21s 54ms/step - loss: 0.5141 - acc: 0.8207 - val_loss: 0.8108 - val_acc: 0.7460\n",
      "Epoch 12/100\n",
      "391/390 [==============================] - 21s 53ms/step - loss: 0.4891 - acc: 0.8257 - val_loss: 0.5744 - val_acc: 0.8075\n",
      "Epoch 13/100\n",
      "391/390 [==============================] - 23s 59ms/step - loss: 0.4726 - acc: 0.8343 - val_loss: 0.9024 - val_acc: 0.7204\n",
      "Epoch 14/100\n",
      "391/390 [==============================] - 22s 57ms/step - loss: 0.4597 - acc: 0.8393 - val_loss: 0.8479 - val_acc: 0.7404\n",
      "Epoch 15/100\n",
      "391/390 [==============================] - 24s 61ms/step - loss: 0.4434 - acc: 0.8454 - val_loss: 0.4925 - val_acc: 0.8322\n",
      "Epoch 16/100\n",
      "391/390 [==============================] - 22s 56ms/step - loss: 0.4309 - acc: 0.8492 - val_loss: 0.5645 - val_acc: 0.8092\n",
      "Epoch 17/100\n",
      "391/390 [==============================] - 22s 57ms/step - loss: 0.4149 - acc: 0.8559 - val_loss: 0.4872 - val_acc: 0.8384\n",
      "Epoch 18/100\n",
      "391/390 [==============================] - 22s 57ms/step - loss: 0.4039 - acc: 0.8563 - val_loss: 0.6011 - val_acc: 0.8060\n",
      "Epoch 19/100\n",
      "391/390 [==============================] - 22s 57ms/step - loss: 0.3941 - acc: 0.8610 - val_loss: 0.4176 - val_acc: 0.8599\n",
      "Epoch 20/100\n",
      "391/390 [==============================] - 21s 55ms/step - loss: 0.3864 - acc: 0.8654 - val_loss: 0.6514 - val_acc: 0.7942\n",
      "Epoch 21/100\n",
      "391/390 [==============================] - 21s 53ms/step - loss: 0.3703 - acc: 0.8686 - val_loss: 0.5329 - val_acc: 0.8259\n",
      "Epoch 22/100\n",
      "391/390 [==============================] - 22s 56ms/step - loss: 0.3650 - acc: 0.8709 - val_loss: 0.3848 - val_acc: 0.8710\n",
      "Epoch 23/100\n",
      "391/390 [==============================] - 21s 54ms/step - loss: 0.3565 - acc: 0.8743 - val_loss: 0.5154 - val_acc: 0.8268\n",
      "Epoch 24/100\n",
      "391/390 [==============================] - 22s 55ms/step - loss: 0.3475 - acc: 0.8785 - val_loss: 0.5549 - val_acc: 0.8208\n",
      "Epoch 25/100\n",
      "391/390 [==============================] - 22s 57ms/step - loss: 0.3397 - acc: 0.8803 - val_loss: 0.4687 - val_acc: 0.8549\n",
      "Epoch 26/100\n",
      "391/390 [==============================] - 21s 55ms/step - loss: 0.3355 - acc: 0.8804 - val_loss: 0.4363 - val_acc: 0.8530\n",
      "Epoch 27/100\n",
      "391/390 [==============================] - 22s 55ms/step - loss: 0.3264 - acc: 0.8837 - val_loss: 0.4388 - val_acc: 0.8553\n",
      "Epoch 28/100\n",
      "391/390 [==============================] - 22s 56ms/step - loss: 0.3230 - acc: 0.8864 - val_loss: 0.4673 - val_acc: 0.8484\n",
      "Epoch 29/100\n",
      "391/390 [==============================] - 21s 54ms/step - loss: 0.3149 - acc: 0.8897 - val_loss: 0.4874 - val_acc: 0.8390\n",
      "Epoch 30/100\n",
      "391/390 [==============================] - 21s 55ms/step - loss: 0.2987 - acc: 0.8957 - val_loss: 0.4786 - val_acc: 0.8461\n",
      "Epoch 31/100\n",
      "391/390 [==============================] - 24s 61ms/step - loss: 0.3049 - acc: 0.8923 - val_loss: 0.3928 - val_acc: 0.8730\n",
      "Epoch 32/100\n",
      "391/390 [==============================] - 33s 84ms/step - loss: 0.2984 - acc: 0.8941 - val_loss: 0.4827 - val_acc: 0.8457\n",
      "Epoch 33/100\n",
      "391/390 [==============================] - 28s 72ms/step - loss: 0.2895 - acc: 0.8971 - val_loss: 0.7288 - val_acc: 0.7801\n",
      "Epoch 34/100\n",
      "391/390 [==============================] - 33s 84ms/step - loss: 0.2848 - acc: 0.8994 - val_loss: 0.4652 - val_acc: 0.8517\n",
      "Epoch 35/100\n",
      "391/390 [==============================] - 28s 72ms/step - loss: 0.2779 - acc: 0.9023 - val_loss: 0.4689 - val_acc: 0.8481\n",
      "Epoch 36/100\n",
      "391/390 [==============================] - 28s 72ms/step - loss: 0.2737 - acc: 0.9027 - val_loss: 0.4386 - val_acc: 0.8603\n",
      "Epoch 37/100\n",
      "391/390 [==============================] - 32s 83ms/step - loss: 0.2681 - acc: 0.9045 - val_loss: 0.4342 - val_acc: 0.8640\n",
      "Epoch 38/100\n",
      "391/390 [==============================] - 24s 61ms/step - loss: 0.2633 - acc: 0.9076 - val_loss: 0.4280 - val_acc: 0.8681\n",
      "Epoch 39/100\n",
      "391/390 [==============================] - 26s 67ms/step - loss: 0.2606 - acc: 0.9083 - val_loss: 0.4024 - val_acc: 0.8712\n",
      "Epoch 40/100\n",
      "391/390 [==============================] - 25s 64ms/step - loss: 0.2598 - acc: 0.9092 - val_loss: 0.4539 - val_acc: 0.8564\n",
      "Epoch 41/100\n",
      "391/390 [==============================] - 23s 59ms/step - loss: 0.2544 - acc: 0.9089 - val_loss: 0.5215 - val_acc: 0.8310\n",
      "Epoch 42/100\n",
      "391/390 [==============================] - 23s 58ms/step - loss: 0.2489 - acc: 0.9133 - val_loss: 0.3871 - val_acc: 0.8766\n",
      "Epoch 43/100\n",
      "391/390 [==============================] - 22s 56ms/step - loss: 0.2471 - acc: 0.9115 - val_loss: 0.4456 - val_acc: 0.8625\n",
      "Epoch 44/100\n",
      "391/390 [==============================] - 22s 55ms/step - loss: 0.2450 - acc: 0.9143 - val_loss: 0.5091 - val_acc: 0.8378\n",
      "Epoch 45/100\n",
      "391/390 [==============================] - 22s 57ms/step - loss: 0.2422 - acc: 0.9144 - val_loss: 0.5067 - val_acc: 0.8447\n",
      "Epoch 46/100\n",
      "391/390 [==============================] - 25s 64ms/step - loss: 0.2328 - acc: 0.9173 - val_loss: 0.3942 - val_acc: 0.8695\n",
      "Epoch 47/100\n",
      "391/390 [==============================] - 28s 71ms/step - loss: 0.2358 - acc: 0.9175 - val_loss: 0.3887 - val_acc: 0.8761\n",
      "Epoch 48/100\n",
      "391/390 [==============================] - 34s 86ms/step - loss: 0.2314 - acc: 0.9182 - val_loss: 0.3726 - val_acc: 0.8836\n",
      "Epoch 49/100\n",
      "391/390 [==============================] - 31s 81ms/step - loss: 0.2272 - acc: 0.9191 - val_loss: 0.4518 - val_acc: 0.8608\n",
      "Epoch 50/100\n",
      "391/390 [==============================] - 29s 73ms/step - loss: 0.2232 - acc: 0.9211 - val_loss: 0.4186 - val_acc: 0.8622\n",
      "Epoch 51/100\n",
      "391/390 [==============================] - 29s 74ms/step - loss: 0.2180 - acc: 0.9209 - val_loss: 0.4651 - val_acc: 0.8632\n",
      "Epoch 52/100\n",
      "391/390 [==============================] - 28s 70ms/step - loss: 0.2280 - acc: 0.9176 - val_loss: 0.4233 - val_acc: 0.8688\n",
      "Epoch 53/100\n",
      "391/390 [==============================] - 30s 78ms/step - loss: 0.2118 - acc: 0.9241 - val_loss: 0.4124 - val_acc: 0.8776\n",
      "Epoch 54/100\n",
      "391/390 [==============================] - 34s 87ms/step - loss: 0.2102 - acc: 0.9259 - val_loss: 0.4114 - val_acc: 0.8736\n",
      "Epoch 55/100\n",
      "391/390 [==============================] - 30s 77ms/step - loss: 0.2073 - acc: 0.9257 - val_loss: 0.5180 - val_acc: 0.8446\n",
      "Epoch 56/100\n",
      "391/390 [==============================] - 31s 78ms/step - loss: 0.2105 - acc: 0.9251 - val_loss: 0.4996 - val_acc: 0.8528\n",
      "Epoch 57/100\n",
      "391/390 [==============================] - 33s 85ms/step - loss: 0.2071 - acc: 0.9263 - val_loss: 0.4012 - val_acc: 0.8710\n",
      "Epoch 58/100\n",
      "391/390 [==============================] - 28s 71ms/step - loss: 0.2083 - acc: 0.9260 - val_loss: 0.3698 - val_acc: 0.8844\n",
      "Epoch 59/100\n",
      "391/390 [==============================] - 31s 78ms/step - loss: 0.2035 - acc: 0.9275 - val_loss: 0.4648 - val_acc: 0.8611\n",
      "Epoch 60/100\n",
      "391/390 [==============================] - 25s 63ms/step - loss: 0.2029 - acc: 0.9278 - val_loss: 0.4152 - val_acc: 0.8734\n",
      "Epoch 61/100\n"
     ]
    },
    {
     "name": "stdout",
     "output_type": "stream",
     "text": [
      "391/390 [==============================] - 35s 91ms/step - loss: 0.1978 - acc: 0.9289 - val_loss: 0.4032 - val_acc: 0.8802\n",
      "Epoch 62/100\n",
      "391/390 [==============================] - 31s 80ms/step - loss: 0.1910 - acc: 0.9319 - val_loss: 0.3998 - val_acc: 0.8745\n",
      "Epoch 63/100\n",
      "391/390 [==============================] - 30s 76ms/step - loss: 0.1937 - acc: 0.9309 - val_loss: 0.3989 - val_acc: 0.8769\n",
      "Epoch 64/100\n",
      "391/390 [==============================] - 36s 93ms/step - loss: 0.1959 - acc: 0.9290 - val_loss: 0.4250 - val_acc: 0.8725\n",
      "Epoch 65/100\n",
      "391/390 [==============================] - 34s 86ms/step - loss: 0.1937 - acc: 0.9308 - val_loss: 0.4073 - val_acc: 0.8733\n",
      "Epoch 66/100\n",
      "391/390 [==============================] - 36s 93ms/step - loss: 0.1932 - acc: 0.9305 - val_loss: 0.4140 - val_acc: 0.8756\n",
      "Epoch 67/100\n",
      "391/390 [==============================] - 34s 87ms/step - loss: 0.1851 - acc: 0.9334 - val_loss: 0.3597 - val_acc: 0.8877\n",
      "Epoch 68/100\n",
      "391/390 [==============================] - 32s 81ms/step - loss: 0.1876 - acc: 0.9327 - val_loss: 0.3796 - val_acc: 0.8849\n",
      "Epoch 69/100\n",
      "391/390 [==============================] - 35s 89ms/step - loss: 0.1827 - acc: 0.9341 - val_loss: 0.4656 - val_acc: 0.8610\n",
      "Epoch 70/100\n",
      "391/390 [==============================] - 33s 85ms/step - loss: 0.1824 - acc: 0.9346 - val_loss: 0.4029 - val_acc: 0.8779\n",
      "Epoch 71/100\n",
      "391/390 [==============================] - 34s 88ms/step - loss: 0.1814 - acc: 0.9358 - val_loss: 0.6153 - val_acc: 0.8376\n",
      "Epoch 72/100\n",
      "391/390 [==============================] - 30s 76ms/step - loss: 0.1768 - acc: 0.9359 - val_loss: 0.3884 - val_acc: 0.8857\n",
      "Epoch 73/100\n",
      "391/390 [==============================] - 31s 78ms/step - loss: 0.1772 - acc: 0.9378 - val_loss: 0.4013 - val_acc: 0.8790\n",
      "Epoch 74/100\n",
      "391/390 [==============================] - 31s 79ms/step - loss: 0.1777 - acc: 0.9371 - val_loss: 0.4289 - val_acc: 0.8766\n",
      "Epoch 75/100\n",
      "391/390 [==============================] - 32s 81ms/step - loss: 0.1807 - acc: 0.9363 - val_loss: 0.3600 - val_acc: 0.8892\n",
      "Epoch 76/100\n",
      "391/390 [==============================] - 31s 80ms/step - loss: 0.1738 - acc: 0.9376 - val_loss: 0.4067 - val_acc: 0.8806\n",
      "Epoch 77/100\n",
      "391/390 [==============================] - 27s 70ms/step - loss: 0.1721 - acc: 0.9387 - val_loss: 0.3884 - val_acc: 0.8807\n",
      "Epoch 78/100\n",
      "391/390 [==============================] - 27s 70ms/step - loss: 0.1714 - acc: 0.9389 - val_loss: 0.3868 - val_acc: 0.8854\n",
      "Epoch 79/100\n",
      "391/390 [==============================] - 32s 81ms/step - loss: 0.1711 - acc: 0.9395 - val_loss: 0.4378 - val_acc: 0.8729\n",
      "Epoch 80/100\n",
      "391/390 [==============================] - 32s 82ms/step - loss: 0.1645 - acc: 0.9404 - val_loss: 0.3553 - val_acc: 0.8878\n",
      "Epoch 81/100\n",
      "391/390 [==============================] - 31s 80ms/step - loss: 0.1668 - acc: 0.9397 - val_loss: 0.4403 - val_acc: 0.8726\n",
      "Epoch 82/100\n",
      "391/390 [==============================] - 34s 86ms/step - loss: 0.1654 - acc: 0.9416 - val_loss: 0.3975 - val_acc: 0.8798\n",
      "Epoch 83/100\n",
      "391/390 [==============================] - 33s 84ms/step - loss: 0.1670 - acc: 0.9399 - val_loss: 0.4459 - val_acc: 0.8729\n",
      "Epoch 84/100\n",
      "391/390 [==============================] - 25s 63ms/step - loss: 0.1686 - acc: 0.9398 - val_loss: 0.3827 - val_acc: 0.8850\n",
      "Epoch 85/100\n",
      "391/390 [==============================] - 29s 73ms/step - loss: 0.1627 - acc: 0.9425 - val_loss: 0.3973 - val_acc: 0.8859\n",
      "Epoch 86/100\n",
      "391/390 [==============================] - 32s 81ms/step - loss: 0.1627 - acc: 0.9427 - val_loss: 0.4148 - val_acc: 0.8759\n",
      "Epoch 87/100\n",
      "391/390 [==============================] - 31s 79ms/step - loss: 0.1564 - acc: 0.9434 - val_loss: 0.3941 - val_acc: 0.8867\n",
      "Epoch 88/100\n",
      "391/390 [==============================] - 31s 79ms/step - loss: 0.1544 - acc: 0.9446 - val_loss: 0.3846 - val_acc: 0.8846\n",
      "Epoch 89/100\n",
      "391/390 [==============================] - 23s 60ms/step - loss: 0.1552 - acc: 0.9438 - val_loss: 0.3955 - val_acc: 0.8853\n",
      "Epoch 90/100\n",
      "391/390 [==============================] - 28s 72ms/step - loss: 0.1572 - acc: 0.9434 - val_loss: 0.3829 - val_acc: 0.8878\n",
      "Epoch 91/100\n",
      "391/390 [==============================] - 27s 69ms/step - loss: 0.1566 - acc: 0.9443 - val_loss: 0.4564 - val_acc: 0.8728\n",
      "Epoch 92/100\n",
      "391/390 [==============================] - 23s 59ms/step - loss: 0.1505 - acc: 0.9459 - val_loss: 0.3925 - val_acc: 0.8845\n",
      "Epoch 93/100\n",
      "391/390 [==============================] - 26s 66ms/step - loss: 0.1503 - acc: 0.9471 - val_loss: 0.4014 - val_acc: 0.8821\n",
      "Epoch 94/100\n",
      "391/390 [==============================] - 24s 61ms/step - loss: 0.1504 - acc: 0.9461 - val_loss: 0.4730 - val_acc: 0.8634\n",
      "Epoch 95/100\n",
      "391/390 [==============================] - 26s 68ms/step - loss: 0.1568 - acc: 0.9446 - val_loss: 0.4126 - val_acc: 0.8799\n",
      "Epoch 96/100\n",
      "391/390 [==============================] - 24s 61ms/step - loss: 0.1510 - acc: 0.9463 - val_loss: 0.5026 - val_acc: 0.8614\n",
      "Epoch 97/100\n",
      "391/390 [==============================] - 23s 59ms/step - loss: 0.1452 - acc: 0.9489 - val_loss: 0.4360 - val_acc: 0.8783\n",
      "Epoch 98/100\n",
      "391/390 [==============================] - 23s 59ms/step - loss: 0.1486 - acc: 0.9469 - val_loss: 0.3806 - val_acc: 0.8896\n",
      "Epoch 99/100\n",
      "391/390 [==============================] - 23s 58ms/step - loss: 0.1453 - acc: 0.9489 - val_loss: 0.3827 - val_acc: 0.8870\n",
      "Epoch 100/100\n",
      "391/390 [==============================] - 23s 58ms/step - loss: 0.1442 - acc: 0.9489 - val_loss: 0.3717 - val_acc: 0.8891\n"
     ]
    }
   ],
   "source": [
    "# train with image augmentation\n",
    "history=model.fit_generator(datagen.flow(x_tr, y_tr, batch_size=128),\n",
    "                    steps_per_epoch = len(x_train) / 128, epochs=100, validation_data=(x_val, y_val))"
   ]
  },
  {
   "cell_type": "code",
   "execution_count": 11,
   "metadata": {},
   "outputs": [
    {
     "data": {
      "image/png": "[encoded data removed]",
      "text/plain": [
       "<Figure size 432x288 with 1 Axes>"
      ]
     },
     "metadata": {
      "needs_background": "light"
     },
     "output_type": "display_data"
    }
   ],
   "source": [
    "acc = history.history['acc']\n",
    "val_acc = history.history['val_acc']\n",
    "\n",
    "epochs = range(len(acc))\n",
    "\n",
    "plt.plot(epochs, acc, 'bo', label='Training acc')\n",
    "plt.plot(epochs, val_acc, 'r', label='Validation acc')\n",
    "plt.xlabel('Epochs')\n",
    "plt.ylabel('Accuracy')\n",
    "plt.legend()\n",
    "plt.show()"
   ]
  },
  {
   "cell_type": "markdown",
   "metadata": {},
   "source": [
    "## 3. Train (again) and evaluate the model\n",
    "\n",
    "- To this end, you have found the \"best\" hyper-parameters. \n",
    "- Now, fix the hyper-parameters and train the network on the entire training set (all the 50K training samples)\n",
    "- Evaluate your model on the test set.\n",
    "\n",
    "### 3.1. Train the model on the entire training set\n",
    "\n",
    "Why? Previously, you used 40K samples for training; you wasted 10K samples for the sake of hyper-parameter tuning. Now you already know the hyper-parameters, so why not using all the 50K samples for training?"
   ]
  },
  {
   "cell_type": "code",
   "execution_count": 12,
   "metadata": {},
   "outputs": [],
   "source": [
    "# <Compile your model again (using the same hyper-parameters)>\n",
    "# <Compile your model again (using the same hyper-parameters)>\n",
    "model.compile(loss='categorical_crossentropy', metrics=['accuracy'],optimizer=optimizer)\n"
   ]
  },
  {
   "cell_type": "code",
   "execution_count": 13,
   "metadata": {},
   "outputs": [
    {
     "name": "stdout",
     "output_type": "stream",
     "text": [
      "Epoch 1/30\n",
      "50000/50000 [==============================] - 11s 222us/step - loss: 0.2461 - acc: 0.9175\n",
      "Epoch 2/30\n",
      "50000/50000 [==============================] - 9s 181us/step - loss: 0.1238 - acc: 0.9580\n",
      "Epoch 3/30\n",
      "50000/50000 [==============================] - 9s 176us/step - loss: 0.0885 - acc: 0.9697\n",
      "Epoch 4/30\n",
      "50000/50000 [==============================] - 9s 178us/step - loss: 0.0690 - acc: 0.9766\n",
      "Epoch 5/30\n",
      "50000/50000 [==============================] - 9s 180us/step - loss: 0.0593 - acc: 0.9794\n",
      "Epoch 6/30\n",
      "50000/50000 [==============================] - 9s 177us/step - loss: 0.0518 - acc: 0.9818\n",
      "Epoch 7/30\n",
      "50000/50000 [==============================] - 9s 173us/step - loss: 0.0433 - acc: 0.9845\n",
      "Epoch 8/30\n",
      "50000/50000 [==============================] - 9s 181us/step - loss: 0.0438 - acc: 0.9848\n",
      "Epoch 9/30\n",
      "50000/50000 [==============================] - 9s 177us/step - loss: 0.0394 - acc: 0.9861\n",
      "Epoch 10/30\n",
      "50000/50000 [==============================] - 9s 175us/step - loss: 0.0372 - acc: 0.9876\n",
      "Epoch 11/30\n",
      "50000/50000 [==============================] - 9s 177us/step - loss: 0.0352 - acc: 0.9876\n",
      "Epoch 12/30\n",
      "50000/50000 [==============================] - 9s 175us/step - loss: 0.0354 - acc: 0.9881\n",
      "Epoch 13/30\n",
      "50000/50000 [==============================] - 9s 178us/step - loss: 0.0342 - acc: 0.9880\n",
      "Epoch 14/30\n",
      "50000/50000 [==============================] - 9s 180us/step - loss: 0.0333 - acc: 0.9883\n",
      "Epoch 15/30\n",
      "50000/50000 [==============================] - 9s 175us/step - loss: 0.0292 - acc: 0.9900\n",
      "Epoch 16/30\n",
      "50000/50000 [==============================] - 9s 171us/step - loss: 0.0278 - acc: 0.9905\n",
      "Epoch 17/30\n",
      "50000/50000 [==============================] - 9s 172us/step - loss: 0.0278 - acc: 0.9905\n",
      "Epoch 18/30\n",
      "50000/50000 [==============================] - 9s 178us/step - loss: 0.0301 - acc: 0.9898\n",
      "Epoch 19/30\n",
      "50000/50000 [==============================] - 9s 179us/step - loss: 0.0296 - acc: 0.9893\n",
      "Epoch 20/30\n",
      "50000/50000 [==============================] - 9s 181us/step - loss: 0.0240 - acc: 0.9919\n",
      "Epoch 21/30\n",
      "50000/50000 [==============================] - 9s 178us/step - loss: 0.0247 - acc: 0.9913\n",
      "Epoch 22/30\n",
      "50000/50000 [==============================] - 9s 181us/step - loss: 0.0228 - acc: 0.9919\n",
      "Epoch 23/30\n",
      "50000/50000 [==============================] - 9s 176us/step - loss: 0.0261 - acc: 0.9910\n",
      "Epoch 24/30\n",
      "50000/50000 [==============================] - 9s 181us/step - loss: 0.0234 - acc: 0.9921\n",
      "Epoch 25/30\n",
      "50000/50000 [==============================] - 9s 180us/step - loss: 0.0267 - acc: 0.9907\n",
      "Epoch 26/30\n",
      "50000/50000 [==============================] - 9s 175us/step - loss: 0.0264 - acc: 0.9912\n",
      "Epoch 27/30\n",
      "50000/50000 [==============================] - 9s 177us/step - loss: 0.0252 - acc: 0.9907\n",
      "Epoch 28/30\n",
      "50000/50000 [==============================] - 9s 180us/step - loss: 0.0203 - acc: 0.9934\n",
      "Epoch 29/30\n",
      "50000/50000 [==============================] - 9s 178us/step - loss: 0.0216 - acc: 0.9926\n",
      "Epoch 30/30\n",
      "50000/50000 [==============================] - 9s 174us/step - loss: 0.0200 - acc: 0.9936\n"
     ]
    }
   ],
   "source": [
    "# <Train your model on the entire training set (50K samples)>\n",
    "# <Use (x_train, y_train_vec) instead of (x_tr, y_tr)>\n",
    "# <Do NOT use the validation_data option (because now you do not have validation data)>\n",
    "\n",
    "history = model.fit(x_train, y_train_vec, batch_size=128, epochs=30)"
   ]
  },
  {
   "cell_type": "code",
   "execution_count": 15,
   "metadata": {},
   "outputs": [
    {
     "name": "stdout",
     "output_type": "stream",
     "text": [
      "10000/10000 [==============================] - 2s 196us/step\n",
      "test loss = 0.5324792645046488\n",
      "test accuracy = 0.8867\n",
      "50000/50000 [==============================] - 8s 155us/step\n",
      "train loss = 0.021969471580665558\n",
      "train accuracy = 0.99198\n",
      "10000/10000 [==============================] - 2s 154us/step\n",
      "val loss = 0.0240235571386409\n",
      "val accuracy = 0.9911\n"
     ]
    }
   ],
   "source": [
    "loss_and_acc = model.evaluate(x_test, y_test_vec)\n",
    "print('test loss = ' + str(loss_and_acc[0]))\n",
    "print('test accuracy = ' + str(loss_and_acc[1]))\n",
    "\n",
    "loss_and_acc = model.evaluate(x_train, y_train_vec)\n",
    "print('train loss = ' + str(loss_and_acc[0]))\n",
    "print('train accuracy = ' + str(loss_and_acc[1]))\n",
    "\n",
    "loss_and_acc = model.evaluate(x_val, y_val)\n",
    "print('val loss = ' + str(loss_and_acc[0]))\n",
    "print('val accuracy = ' + str(loss_and_acc[1]))"
   ]
  },
  {
   "cell_type": "code",
   "execution_count": null,
   "metadata": {},
   "outputs": [],
   "source": []
  }
 ],
 "metadata": {
  "kernelspec": {
   "display_name": "Python 3",
   "language": "python",
   "name": "python3"
  },
  "language_info": {
   "codemirror_mode": {
    "name": "ipython",
    "version": 3
   },
   "file_extension": ".py",
   "mimetype": "text/x-python",
   "name": "python",
   "nbconvert_exporter": "python",
   "pygments_lexer": "ipython3",
   "version": "3.6.8"
  }
 },
 "nbformat": 4,
 "nbformat_minor": 2
}
