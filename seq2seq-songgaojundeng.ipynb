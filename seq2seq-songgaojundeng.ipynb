{
 "cells": [
  {
   "cell_type": "markdown",
   "metadata": {},
   "source": [
    "# Home 4: Build a seq2seq model for machine translation.\n",
    "\n",
    "### Name: [Songgaojun Deng]\n",
    "\n",
    "### Task: Translate English to [Spanish, French]"
   ]
  },
  {
   "cell_type": "markdown",
   "metadata": {},
   "source": [
    "## 0. You will do the following:\n",
    "\n",
    "1. Read and run my code.\n",
    "2. Complete the code in Section 1.1 and Section 4.2.\n",
    "\n",
    "    * Translation English to **German** is not acceptable!!! Try another language.\n",
    "    \n",
    "3. **Make improvements.** Directly modify the code in Section 3. Do at least one of the followings. By doing more, you will get up to 2 bonus scores to the total.\n",
    "\n",
    "    * Bi-LSTM instead of LSTM\n",
    "    \n",
    "    * Multi-task learning (e.g., both English to French and English to Spanish)\n",
    "    \n",
    "    * Attention\n",
    "    \n",
    "4. Evaluate the translation using the BLEU score. \n",
    "\n",
    "    * Optional. Up to 2 bonus scores to the total.\n",
    "    \n",
    "5. Convert the notebook to .HTML file. \n",
    "\n",
    "    * The HTML file must contain the code and the output after execution.\n",
    "\n",
    "6. Put the .HTML file in your own Github repo. \n",
    "\n",
    "7. Submit the link to the HTML file to Canvas\n",
    "\n",
    "    * E.g., https://github.com/wangshusen/CS583A-2019Spring/blob/master/homework/HM4/seq2seq.html"
   ]
  },
  {
   "cell_type": "markdown",
   "metadata": {},
   "source": [
    "#### Hint: To implement Bi-LSTM, you will need the following code to build the encoder; the decoder won't be much different."
   ]
  },
  {
   "cell_type": "code",
   "execution_count": 1,
   "metadata": {},
   "outputs": [],
   "source": [
    "# from keras.layers import Bidirectional, Concatenate, LSTM, \n",
    "\n",
    "# encoder_bilstm = Bidirectional(LSTM(latent_dim, return_state=True, \n",
    "#                                   dropout=0.5, name='encoder_lstm'))\n",
    "# _, forward_h, forward_c, backward_h, backward_c = encoder_bilstm(encoder_inputs)\n",
    "\n",
    "# state_h = Concatenate()([forward_h, backward_h])\n",
    "# state_c = Concatenate()([forward_c, backward_c])"
   ]
  },
  {
   "cell_type": "markdown",
   "metadata": {},
   "source": [
    "## 1. Data preparation\n",
    "\n",
    "1. Download data (e.g., \"deu-eng.zip\") from http://www.manythings.org/anki/\n",
    "2. Unzip the .ZIP file.\n",
    "3. Put the .TXT file (e.g., \"deu.txt\") in the directory \"./Data/\".\n",
    "\n",
    "### 1.1. Load and clean text\n"
   ]
  },
  {
   "cell_type": "code",
   "execution_count": 2,
   "metadata": {},
   "outputs": [],
   "source": [
    "import re\n",
    "import string\n",
    "from unicodedata import normalize\n",
    "import numpy as np\n",
    "import os\n",
    "os.environ[\"CUDA_VISIBLE_DEVICES\"]='3'\n",
    "\n",
    "# load doc into memory\n",
    "def load_doc(filename):\n",
    "    # open the file as read only\n",
    "    file = open(filename, mode='rt', encoding='utf-8')\n",
    "    # read all text\n",
    "    text = file.read()\n",
    "    # close the file\n",
    "    file.close()\n",
    "    return text\n",
    "\n",
    "\n",
    "# split a loaded document into sentences\n",
    "def to_pairs(doc):\n",
    "    lines = doc.strip().split('\\n')\n",
    "    pairs = [line.split('\\t') for line in  lines]\n",
    "    return pairs\n",
    "\n",
    "def clean_data(lines):\n",
    "    cleaned = list()\n",
    "    # prepare regex for char filtering\n",
    "    re_print = re.compile('[^%s]' % re.escape(string.printable))\n",
    "    # prepare translation table for removing punctuation\n",
    "    table = str.maketrans('', '', string.punctuation)\n",
    "    for pair in lines:\n",
    "        clean_pair = list()\n",
    "        for line in pair:\n",
    "            # normalize unicode characters\n",
    "            line = normalize('NFD', line).encode('ascii', 'ignore')\n",
    "            line = line.decode('UTF-8')\n",
    "            # tokenize on white space\n",
    "            line = line.split()\n",
    "            # convert to lowercase\n",
    "            line = [word.lower() for word in line]\n",
    "            # remove punctuation from each token\n",
    "            line = [word.translate(table) for word in line]\n",
    "            # remove non-printable chars form each token\n",
    "            line = [re_print.sub('', w) for w in line]\n",
    "            # remove tokens with numbers in them\n",
    "            line = [word for word in line if word.isalpha()]\n",
    "            # store as string\n",
    "            clean_pair.append(' '.join(line))\n",
    "        cleaned.append(clean_pair)\n",
    "    return np.array(cleaned)"
   ]
  },
  {
   "cell_type": "markdown",
   "metadata": {},
   "source": [
    "#### Fill the following blanks:\n"
   ]
  },
  {
   "cell_type": "code",
   "execution_count": 3,
   "metadata": {},
   "outputs": [],
   "source": [
    "# e.g., filename = 'Data/deu.txt'\n",
    "filename = 'Data/spa.txt'\n",
    "filename2 = 'Data/fra.txt'\n",
    "# e.g., n_train = 20000\n",
    "n_train = 40000"
   ]
  },
  {
   "cell_type": "code",
   "execution_count": 4,
   "metadata": {},
   "outputs": [],
   "source": [
    "# load dataset\n",
    "doc = load_doc(filename)\n",
    "doc2 = load_doc(filename2)\n",
    "\n",
    "# split into Language1-Language2 pairs\n",
    "pairs = to_pairs(doc)\n",
    "pairs2 = to_pairs(doc2)\n",
    "\n",
    "# find intersection and indices, for multi-task learning\n",
    "def intersect_mtlb(a, b):\n",
    "    a1, ia = np.unique(a, return_index=True)\n",
    "    b1, ib = np.unique(b, return_index=True)\n",
    "    aux = np.concatenate((a1, b1))\n",
    "    aux.sort()\n",
    "    c = aux[:-1][aux[1:] == aux[:-1]]\n",
    "    return c, ia[np.isin(a1, c)], ib[np.isin(b1, c)]\n",
    "\n",
    "A = np.array(pairs)[:,0]\n",
    "B = np.array(pairs2)[:,0]\n",
    "c, ia, ib = intersect_mtlb(A,B)\n",
    "\n",
    "pairs = np.array(pairs)[ia]\n",
    "pairs2 = np.array(pairs2)[ib]\n",
    "\n",
    "# clean sentences\n",
    "clean_pairs = clean_data(pairs)[0:n_train, :]\n",
    "clean_pairs2 = clean_data(pairs2)[0:n_train, :]"
   ]
  },
  {
   "cell_type": "code",
   "execution_count": 5,
   "metadata": {},
   "outputs": [
    {
     "name": "stdout",
     "output_type": "stream",
     "text": [
      "[do you know this man in the picture] => [conoces al hombre en esta fotografia]\n",
      "[do you know this song] => [conoces esta cancion]\n",
      "[do you know us] => [nos conoces]\n",
      "[do you know what i mean] => [sabes que quiero decir]\n",
      "[do you know what unesco stands for] => [sabe que significa unesco]\n",
      "-\n",
      "[do you know this man in the picture] => [connaistu lhomme sur cette photo]\n",
      "[do you know this song] => [tu connais cette chanson]\n",
      "[do you know us] => [nous connaistu]\n",
      "[do you know what i mean] => [comprenezvous ce que je veux dire]\n",
      "[do you know what unesco stands for] => [savezvous ce que unesco veut dire]\n"
     ]
    }
   ],
   "source": [
    "for i in range(3000, 3005):\n",
    "    print('[' + clean_pairs[i, 0] + '] => [' + clean_pairs[i, 1] + ']')\n",
    "print('-')\n",
    "for i in range(3000, 3005):\n",
    "    print('[' + clean_pairs2[i, 0] + '] => [' + clean_pairs2[i, 1] + ']')"
   ]
  },
  {
   "cell_type": "code",
   "execution_count": 6,
   "metadata": {},
   "outputs": [
    {
     "name": "stdout",
     "output_type": "stream",
     "text": [
      "Length of input_texts:  (40000,)\n",
      "Length of target_texts: 40000\n",
      "Length of target_texts2: 40000\n"
     ]
    }
   ],
   "source": [
    "input_texts = clean_pairs[:, 0]\n",
    "target_texts = ['\\t' + text + '\\n' for text in clean_pairs[:, 1]]\n",
    "target_texts2 = ['\\t' + text + '\\n' for text in clean_pairs2[:, 1]]\n",
    "\n",
    "print('Length of input_texts:  ' + str(input_texts.shape))\n",
    "print('Length of target_texts: ' + str(len(target_texts)))\n",
    "print('Length of target_texts2: ' + str(len(target_texts2)))"
   ]
  },
  {
   "cell_type": "code",
   "execution_count": 7,
   "metadata": {},
   "outputs": [
    {
     "name": "stdout",
     "output_type": "stream",
     "text": [
      "max length of input  sentences: 281\n",
      "max length of target sentences: 330\n",
      "max length of target2 sentences: 341\n"
     ]
    }
   ],
   "source": [
    "max_encoder_seq_length = max(len(line) for line in input_texts)\n",
    "max_decoder_seq_length = max(len(line) for line in target_texts)\n",
    "max_decoder_seq_length2 = max(len(line) for line in target_texts2)\n",
    "\n",
    "print('max length of input  sentences: %d' % (max_encoder_seq_length))\n",
    "print('max length of target sentences: %d' % (max_decoder_seq_length))\n",
    "print('max length of target2 sentences: %d' % (max_decoder_seq_length2))"
   ]
  },
  {
   "cell_type": "markdown",
   "metadata": {},
   "source": [
    "**Remark:** To this end, you have two lists of sentences: input_texts and target_texts"
   ]
  },
  {
   "cell_type": "markdown",
   "metadata": {},
   "source": [
    "## 2. Text processing\n",
    "\n",
    "### 2.1. Convert texts to sequences\n",
    "\n",
    "- Input: A list of $n$ sentences (with max length $t$).\n",
    "- It is represented by a $n\\times t$ matrix after the tokenization and zero-padding."
   ]
  },
  {
   "cell_type": "code",
   "execution_count": 8,
   "metadata": {},
   "outputs": [
    {
     "name": "stderr",
     "output_type": "stream",
     "text": [
      "Using TensorFlow backend.\n"
     ]
    },
    {
     "name": "stdout",
     "output_type": "stream",
     "text": [
      "shape of encoder_input_seq: (40000, 281)\n",
      "shape of input_token_index: 27\n",
      "shape of decoder_input_seq: (40000, 330)\n",
      "shape of target_token_index: 29\n",
      "shape of decoder_input_seq2: (40000, 341)\n",
      "shape of target_token_index2: 29\n"
     ]
    }
   ],
   "source": [
    "from keras.preprocessing.text import Tokenizer\n",
    "from keras.preprocessing.sequence import pad_sequences\n",
    "\n",
    "# encode and pad sequences\n",
    "def text2sequences(max_len, lines):\n",
    "    tokenizer = Tokenizer(char_level=True, filters='')\n",
    "    tokenizer.fit_on_texts(lines)\n",
    "    seqs = tokenizer.texts_to_sequences(lines)\n",
    "    seqs_pad = pad_sequences(seqs, maxlen=max_len, padding='post')\n",
    "    return seqs_pad, tokenizer.word_index\n",
    "\n",
    "\n",
    "encoder_input_seq, input_token_index = text2sequences(max_encoder_seq_length, \n",
    "                                                      input_texts)\n",
    "decoder_input_seq, target_token_index = text2sequences(max_decoder_seq_length, \n",
    "                                                       target_texts)\n",
    "decoder_input_seq2, target_token_index2 = text2sequences(max_decoder_seq_length2, \n",
    "                                                       target_texts2)\n",
    "\n",
    "print('shape of encoder_input_seq: ' + str(encoder_input_seq.shape))\n",
    "print('shape of input_token_index: ' + str(len(input_token_index)))\n",
    "print('shape of decoder_input_seq: ' + str(decoder_input_seq.shape))\n",
    "print('shape of target_token_index: ' + str(len(target_token_index)))\n",
    "print('shape of decoder_input_seq2: ' + str(decoder_input_seq2.shape))\n",
    "print('shape of target_token_index2: ' + str(len(target_token_index2)))"
   ]
  },
  {
   "cell_type": "code",
   "execution_count": 9,
   "metadata": {},
   "outputs": [
    {
     "name": "stdout",
     "output_type": "stream",
     "text": [
      "num_encoder_tokens: 28\n",
      "num_decoder_tokens: 30\n",
      "num_decoder_tokens2: 30\n"
     ]
    }
   ],
   "source": [
    "num_encoder_tokens = len(input_token_index) + 1\n",
    "num_decoder_tokens = len(target_token_index) + 1\n",
    "num_decoder_tokens2 = len(target_token_index2) + 1\n",
    "\n",
    "print('num_encoder_tokens: ' + str(num_encoder_tokens))\n",
    "print('num_decoder_tokens: ' + str(num_decoder_tokens))\n",
    "print('num_decoder_tokens2: ' + str(num_decoder_tokens2))"
   ]
  },
  {
   "cell_type": "markdown",
   "metadata": {},
   "source": [
    "**Remark:** To this end, the input language and target language texts are converted to 2 matrices. \n",
    "\n",
    "- Their number of rows are both n_train.\n",
    "- Their number of columns are respective max_encoder_seq_length and max_decoder_seq_length.\n",
    " \n",
    " \n",
    "The followings print a sentence and its representation as a sequence."
   ]
  },
  {
   "cell_type": "code",
   "execution_count": 10,
   "metadata": {},
   "outputs": [
    {
     "data": {
      "text/plain": [
       "('\\tel oido de un ciego a menudo es muy agudo\\n',\n",
       " '\\tles aveugles ont souvent une perception auditive accrue\\n')"
      ]
     },
     "execution_count": 10,
     "metadata": {},
     "output_type": "execute_result"
    }
   ],
   "source": [
    "target_texts[100], target_texts2[100]"
   ]
  },
  {
   "cell_type": "code",
   "execution_count": 11,
   "metadata": {},
   "outputs": [
    {
     "data": {
      "text/plain": [
       "(array([13,  2,  9,  1,  4,  8, 12,  4,  1, 12,  2,  1, 11,  6,  1, 15,  8,\n",
       "         2, 22,  4,  1,  3,  1, 16,  2,  6, 11, 12,  4,  1,  2,  5,  1, 16,\n",
       "        11, 23,  1,  3, 22, 11, 12,  4, 14,  0,  0,  0,  0,  0,  0,  0,  0,\n",
       "         0,  0,  0,  0,  0,  0,  0,  0,  0,  0,  0,  0,  0,  0,  0,  0,  0,\n",
       "         0,  0,  0,  0,  0,  0,  0,  0,  0,  0,  0,  0,  0,  0,  0,  0,  0,\n",
       "         0,  0,  0,  0,  0,  0,  0,  0,  0,  0,  0,  0,  0,  0,  0,  0,  0,\n",
       "         0,  0,  0,  0,  0,  0,  0,  0,  0,  0,  0,  0,  0,  0,  0,  0,  0,\n",
       "         0,  0,  0,  0,  0,  0,  0,  0,  0,  0,  0,  0,  0,  0,  0,  0,  0,\n",
       "         0,  0,  0,  0,  0,  0,  0,  0,  0,  0,  0,  0,  0,  0,  0,  0,  0,\n",
       "         0,  0,  0,  0,  0,  0,  0,  0,  0,  0,  0,  0,  0,  0,  0,  0,  0,\n",
       "         0,  0,  0,  0,  0,  0,  0,  0,  0,  0,  0,  0,  0,  0,  0,  0,  0,\n",
       "         0,  0,  0,  0,  0,  0,  0,  0,  0,  0,  0,  0,  0,  0,  0,  0,  0,\n",
       "         0,  0,  0,  0,  0,  0,  0,  0,  0,  0,  0,  0,  0,  0,  0,  0,  0,\n",
       "         0,  0,  0,  0,  0,  0,  0,  0,  0,  0,  0,  0,  0,  0,  0,  0,  0,\n",
       "         0,  0,  0,  0,  0,  0,  0,  0,  0,  0,  0,  0,  0,  0,  0,  0,  0,\n",
       "         0,  0,  0,  0,  0,  0,  0,  0,  0,  0,  0,  0,  0,  0,  0,  0,  0,\n",
       "         0,  0,  0,  0,  0,  0,  0,  0,  0,  0,  0,  0,  0,  0,  0,  0,  0,\n",
       "         0,  0,  0,  0,  0,  0,  0,  0,  0,  0,  0,  0,  0,  0,  0,  0,  0,\n",
       "         0,  0,  0,  0,  0,  0,  0,  0,  0,  0,  0,  0,  0,  0,  0,  0,  0,\n",
       "         0,  0,  0,  0,  0,  0,  0], dtype=int32),\n",
       " array([12, 11,  2,  4,  1,  3, 18,  2,  8, 24, 11,  2,  4,  1, 10,  6,  7,\n",
       "         1,  4, 10,  8, 18,  2,  6,  7,  1,  8,  6,  2,  1, 15,  2,  9, 17,\n",
       "         2, 15,  7,  5, 10,  6,  1,  3,  8, 16,  5,  7,  5, 18,  2,  1,  3,\n",
       "        17, 17,  9,  8,  2, 13,  0,  0,  0,  0,  0,  0,  0,  0,  0,  0,  0,\n",
       "         0,  0,  0,  0,  0,  0,  0,  0,  0,  0,  0,  0,  0,  0,  0,  0,  0,\n",
       "         0,  0,  0,  0,  0,  0,  0,  0,  0,  0,  0,  0,  0,  0,  0,  0,  0,\n",
       "         0,  0,  0,  0,  0,  0,  0,  0,  0,  0,  0,  0,  0,  0,  0,  0,  0,\n",
       "         0,  0,  0,  0,  0,  0,  0,  0,  0,  0,  0,  0,  0,  0,  0,  0,  0,\n",
       "         0,  0,  0,  0,  0,  0,  0,  0,  0,  0,  0,  0,  0,  0,  0,  0,  0,\n",
       "         0,  0,  0,  0,  0,  0,  0,  0,  0,  0,  0,  0,  0,  0,  0,  0,  0,\n",
       "         0,  0,  0,  0,  0,  0,  0,  0,  0,  0,  0,  0,  0,  0,  0,  0,  0,\n",
       "         0,  0,  0,  0,  0,  0,  0,  0,  0,  0,  0,  0,  0,  0,  0,  0,  0,\n",
       "         0,  0,  0,  0,  0,  0,  0,  0,  0,  0,  0,  0,  0,  0,  0,  0,  0,\n",
       "         0,  0,  0,  0,  0,  0,  0,  0,  0,  0,  0,  0,  0,  0,  0,  0,  0,\n",
       "         0,  0,  0,  0,  0,  0,  0,  0,  0,  0,  0,  0,  0,  0,  0,  0,  0,\n",
       "         0,  0,  0,  0,  0,  0,  0,  0,  0,  0,  0,  0,  0,  0,  0,  0,  0,\n",
       "         0,  0,  0,  0,  0,  0,  0,  0,  0,  0,  0,  0,  0,  0,  0,  0,  0,\n",
       "         0,  0,  0,  0,  0,  0,  0,  0,  0,  0,  0,  0,  0,  0,  0,  0,  0,\n",
       "         0,  0,  0,  0,  0,  0,  0,  0,  0,  0,  0,  0,  0,  0,  0,  0,  0,\n",
       "         0,  0,  0,  0,  0,  0,  0,  0,  0,  0,  0,  0,  0,  0,  0,  0,  0,\n",
       "         0], dtype=int32))"
      ]
     },
     "execution_count": 11,
     "metadata": {},
     "output_type": "execute_result"
    }
   ],
   "source": [
    "decoder_input_seq[100, :], decoder_input_seq2[100, :]"
   ]
  },
  {
   "cell_type": "markdown",
   "metadata": {},
   "source": [
    "## 2.2. One-hot encode\n",
    "\n",
    "- Input: A list of $n$ sentences (with max length $t$).\n",
    "- It is represented by a $n\\times t$ matrix after the tokenization and zero-padding.\n",
    "- It is represented by a $n\\times t \\times v$ tensor ($t$ is the number of unique chars) after the one-hot encoding."
   ]
  },
  {
   "cell_type": "code",
   "execution_count": 12,
   "metadata": {},
   "outputs": [
    {
     "name": "stdout",
     "output_type": "stream",
     "text": [
      "(40000, 281, 28)\n",
      "(40000, 330, 30)\n",
      "(40000, 341, 30)\n"
     ]
    }
   ],
   "source": [
    "from keras.utils import to_categorical\n",
    "\n",
    "# one hot encode target sequence\n",
    "def onehot_encode(sequences, max_len, vocab_size):\n",
    "    n = len(sequences)\n",
    "    data = np.zeros((n, max_len, vocab_size))\n",
    "    for i in range(n):\n",
    "        data[i, :, :] = to_categorical(sequences[i], num_classes=vocab_size)\n",
    "    return data\n",
    "\n",
    "encoder_input_data = onehot_encode(encoder_input_seq, max_encoder_seq_length, num_encoder_tokens)\n",
    "decoder_input_data = onehot_encode(decoder_input_seq, max_decoder_seq_length, num_decoder_tokens)\n",
    "decoder_input_data2 = onehot_encode(decoder_input_seq2, max_decoder_seq_length2, num_decoder_tokens2)\n",
    "\n",
    "decoder_target_seq = np.zeros(decoder_input_seq.shape)\n",
    "decoder_target_seq[:, 0:-1] = decoder_input_seq[:, 1:]\n",
    "decoder_target_data = onehot_encode(decoder_target_seq, \n",
    "                                    max_decoder_seq_length, \n",
    "                                    num_decoder_tokens)\n",
    "\n",
    "decoder_target_seq2 = np.zeros(decoder_input_seq2.shape)\n",
    "decoder_target_seq2[:, 0:-1] = decoder_input_seq2[:, 1:]\n",
    "decoder_target_data2 = onehot_encode(decoder_target_seq2, \n",
    "                                    max_decoder_seq_length2, \n",
    "                                    num_decoder_tokens2)\n",
    "\n",
    "print(encoder_input_data.shape)\n",
    "print(decoder_input_data.shape)\n",
    "print(decoder_input_data2.shape)"
   ]
  },
  {
   "cell_type": "markdown",
   "metadata": {},
   "source": [
    "## 3. Build the networks (for training)\n",
    "\n",
    "- Build encoder, decoder, and connect the two modules to get \"model\". \n",
    "\n",
    "- Fit the model on the bilingual data to train the parameters in the encoder and decoder.\n",
    "\n",
    "### 3.1. Encoder network\n",
    "\n",
    "- Input:  one-hot encode of the input language\n",
    "\n",
    "- Return: \n",
    "\n",
    "    -- output (all the hidden states   $h_1, \\cdots , h_t$) are always discarded\n",
    "    \n",
    "    -- the final hidden state  $h_t$\n",
    "    \n",
    "    -- the final conveyor belt $c_t$"
   ]
  },
  {
   "cell_type": "code",
   "execution_count": 13,
   "metadata": {},
   "outputs": [
    {
     "name": "stdout",
     "output_type": "stream",
     "text": [
      "(?, 512) (?, 512)\n"
     ]
    }
   ],
   "source": [
    "from keras.layers import Input, LSTM, Bidirectional, Concatenate, CuDNNLSTM\n",
    "from keras.models import Model\n",
    "\n",
    "latent_dim = 256\n",
    "\n",
    "# inputs of the encoder network\n",
    "encoder_inputs = Input(shape=(None, num_encoder_tokens), \n",
    "                       name='encoder_inputs')\n",
    "\n",
    "## Bidirectional LSTM\n",
    "encoder_lstm = Bidirectional(CuDNNLSTM(latent_dim, return_state=True,  #dropout=0.5, \n",
    "                    name='encoder_lstm'))\n",
    "_, forward_h, forward_c, backward_h, backward_c = encoder_lstm(encoder_inputs)\n",
    "state_h = Concatenate()([forward_h, backward_h])\n",
    "state_c = Concatenate()([forward_c, backward_c])\n",
    "\n",
    "print(state_h.shape, state_c.shape)\n",
    "\n",
    "# build the encoder network model\n",
    "encoder_model = Model(inputs=encoder_inputs, \n",
    "                      outputs=[state_h, state_c],\n",
    "                      name='encoder')"
   ]
  },
  {
   "cell_type": "code",
   "execution_count": 14,
   "metadata": {},
   "outputs": [
    {
     "name": "stdout",
     "output_type": "stream",
     "text": [
      "__________________________________________________________________________________________________\n",
      "Layer (type)                    Output Shape         Param #     Connected to                     \n",
      "==================================================================================================\n",
      "encoder_inputs (InputLayer)     (None, None, 28)     0                                            \n",
      "__________________________________________________________________________________________________\n",
      "bidirectional_1 (Bidirectional) [(None, 512), (None, 585728      encoder_inputs[0][0]             \n",
      "__________________________________________________________________________________________________\n",
      "concatenate_1 (Concatenate)     (None, 512)          0           bidirectional_1[0][1]            \n",
      "                                                                 bidirectional_1[0][3]            \n",
      "__________________________________________________________________________________________________\n",
      "concatenate_2 (Concatenate)     (None, 512)          0           bidirectional_1[0][2]            \n",
      "                                                                 bidirectional_1[0][4]            \n",
      "==================================================================================================\n",
      "Total params: 585,728\n",
      "Trainable params: 585,728\n",
      "Non-trainable params: 0\n",
      "__________________________________________________________________________________________________\n"
     ]
    }
   ],
   "source": [
    "from IPython.display import SVG\n",
    "from keras.utils.vis_utils import model_to_dot, plot_model\n",
    "\n",
    "SVG(model_to_dot(encoder_model, show_shapes=False).create(prog='dot', format='svg'))\n",
    "\n",
    "plot_model(\n",
    "    model=encoder_model, show_shapes=False,\n",
    "    to_file='encoder.pdf'\n",
    ")\n",
    "\n",
    "encoder_model.summary()"
   ]
  },
  {
   "cell_type": "markdown",
   "metadata": {},
   "source": [
    "### 3.2. Decoder network\n",
    "\n",
    "- Inputs:  \n",
    "\n",
    "    -- one-hot encode of the target language\n",
    "    \n",
    "    -- The initial hidden state $h_t$ \n",
    "    \n",
    "    -- The initial conveyor belt $c_t$ \n",
    "\n",
    "- Return: \n",
    "\n",
    "    -- output (all the hidden states) $h_1, \\cdots , h_t$\n",
    "\n",
    "    -- the final hidden state  $h_t$ (discarded in the training and used in the prediction)\n",
    "    \n",
    "    -- the final conveyor belt $c_t$ (discarded in the training and used in the prediction)"
   ]
  },
  {
   "cell_type": "code",
   "execution_count": 17,
   "metadata": {},
   "outputs": [],
   "source": [
    "from keras.layers import Input, LSTM, Dense, Activation, dot\n",
    "from keras.models import Model\n",
    "\n",
    "# inputs of the decoder network\n",
    "decoder_input_h = Input(shape=(latent_dim * 2,), name='decoder_input_h')\n",
    "decoder_input_c = Input(shape=(latent_dim * 2,), name='decoder_input_c')\n",
    "\n",
    "decoder_input_h2 = Input(shape=(latent_dim * 2,), name='decoder_input_h2')\n",
    "decoder_input_c2 = Input(shape=(latent_dim * 2,), name='decoder_input_c2')\n",
    "\n",
    "decoder_input_x = Input(shape=(None, num_decoder_tokens), name='decoder_input_x')\n",
    "decoder_input_x2 = Input(shape=(None, num_decoder_tokens2), name='decoder_input_x2')\n",
    "\n",
    "\n",
    "decoder_lstm = CuDNNLSTM(latent_dim * 2, return_sequences=True, #dropout=0.5, \n",
    "                    return_state=True, name='decoder_lstm')\n",
    "\n",
    "decoder_lstm_outputs, state_h, state_c = decoder_lstm(decoder_input_x, \n",
    "                                                      initial_state=[decoder_input_h, decoder_input_c])\n",
    "decoder_lstm2 = CuDNNLSTM(latent_dim * 2, return_sequences=True, #dropout=0.5, \n",
    "                    return_state=True, name='decoder_lstm2')\n",
    "\n",
    "decoder_lstm_outputs2, state_h2, state_c2 = decoder_lstm2(decoder_input_x2, \n",
    "                                                      initial_state=[decoder_input_h2, decoder_input_c2])\n",
    "\n",
    "# set the dense layer\n",
    "decoder_dense = Dense(num_decoder_tokens, activation='softmax', name='decoder_dense') \n",
    "decoder_outputs = decoder_dense(decoder_lstm_outputs)\n",
    "\n",
    "decoder_dense2 = Dense(num_decoder_tokens2, activation='softmax', name='decoder_dense2') \n",
    "decoder_outputs2 = decoder_dense2(decoder_lstm_outputs2)\n",
    "\n",
    "# build the decoder network model\n",
    "decoder_model = Model(inputs=[decoder_input_x, decoder_input_h, decoder_input_c],\n",
    "                      outputs=[decoder_outputs, state_h, state_c],\n",
    "                      name='decoder')\n",
    "\n",
    "decoder_model2 = Model(inputs=[decoder_input_x2, decoder_input_h2, decoder_input_c2],\n",
    "                      outputs=[decoder_outputs2, state_h2, state_c2],\n",
    "                      name='decoder2')"
   ]
  },
  {
   "cell_type": "markdown",
   "metadata": {},
   "source": [
    "Print a summary and save the encoder network structure to \"./decoder.pdf\""
   ]
  },
  {
   "cell_type": "code",
   "execution_count": 20,
   "metadata": {},
   "outputs": [
    {
     "name": "stdout",
     "output_type": "stream",
     "text": [
      "__________________________________________________________________________________________________\n",
      "Layer (type)                    Output Shape         Param #     Connected to                     \n",
      "==================================================================================================\n",
      "decoder_input_x (InputLayer)    (None, None, 30)     0                                            \n",
      "__________________________________________________________________________________________________\n",
      "decoder_input_h (InputLayer)    (None, 512)          0                                            \n",
      "__________________________________________________________________________________________________\n",
      "decoder_input_c (InputLayer)    (None, 512)          0                                            \n",
      "__________________________________________________________________________________________________\n",
      "decoder_lstm (CuDNNLSTM)        [(None, None, 512),  1114112     decoder_input_x[0][0]            \n",
      "                                                                 decoder_input_h[0][0]            \n",
      "                                                                 decoder_input_c[0][0]            \n",
      "__________________________________________________________________________________________________\n",
      "decoder_dense (Dense)           (None, None, 30)     15390       decoder_lstm[0][0]               \n",
      "==================================================================================================\n",
      "Total params: 1,129,502\n",
      "Trainable params: 1,129,502\n",
      "Non-trainable params: 0\n",
      "__________________________________________________________________________________________________\n",
      "__________________________________________________________________________________________________\n",
      "Layer (type)                    Output Shape         Param #     Connected to                     \n",
      "==================================================================================================\n",
      "decoder_input_x2 (InputLayer)   (None, None, 30)     0                                            \n",
      "__________________________________________________________________________________________________\n",
      "decoder_input_h2 (InputLayer)   (None, 512)          0                                            \n",
      "__________________________________________________________________________________________________\n",
      "decoder_input_c2 (InputLayer)   (None, 512)          0                                            \n",
      "__________________________________________________________________________________________________\n",
      "decoder_lstm2 (CuDNNLSTM)       [(None, None, 512),  1114112     decoder_input_x2[0][0]           \n",
      "                                                                 decoder_input_h2[0][0]           \n",
      "                                                                 decoder_input_c2[0][0]           \n",
      "__________________________________________________________________________________________________\n",
      "decoder_dense2 (Dense)          (None, None, 30)     15390       decoder_lstm2[0][0]              \n",
      "==================================================================================================\n",
      "Total params: 1,129,502\n",
      "Trainable params: 1,129,502\n",
      "Non-trainable params: 0\n",
      "__________________________________________________________________________________________________\n"
     ]
    }
   ],
   "source": [
    "from IPython.display import SVG\n",
    "from keras.utils.vis_utils import model_to_dot, plot_model\n",
    "\n",
    "SVG(model_to_dot(decoder_model, show_shapes=False).create(prog='dot', format='svg'))\n",
    "\n",
    "plot_model(\n",
    "    model=decoder_model, show_shapes=False,\n",
    "    to_file='decoder.pdf'\n",
    ")\n",
    "\n",
    "decoder_model.summary()\n",
    "\n",
    "plot_model(\n",
    "    model=decoder_model2, show_shapes=False,\n",
    "    to_file='decoder2.pdf'\n",
    ")\n",
    "\n",
    "decoder_model2.summary()"
   ]
  },
  {
   "cell_type": "markdown",
   "metadata": {},
   "source": [
    "### 3.3. Connect the encoder and decoder"
   ]
  },
  {
   "cell_type": "code",
   "execution_count": 21,
   "metadata": {},
   "outputs": [],
   "source": [
    "# input layers\n",
    "encoder_input_x = Input(shape=(None, num_encoder_tokens), name='encoder_input_x')\n",
    "decoder_input_x = Input(shape=(None, num_decoder_tokens), name='decoder_input_x')\n",
    "\n",
    "# connect encoder to decoder\n",
    "encoder_final_states = encoder_model([encoder_input_x])\n",
    "\n",
    "decoder_lstm_output, _, _ = decoder_lstm(decoder_input_x, initial_state=encoder_final_states)\n",
    "decoder_pred = decoder_dense(decoder_lstm_output)\n",
    "\n",
    "decoder_lstm_output2, _, _ = decoder_lstm2(decoder_input_x2, initial_state=encoder_final_states)\n",
    "decoder_pred2 = decoder_dense2(decoder_lstm_output2)\n",
    "\n",
    "# model = Model(inputs=[encoder_input_x, decoder_input_x], \n",
    "#               outputs=decoder_pred, \n",
    "#               name='model_training')\n",
    "\n",
    "model = Model(inputs=[encoder_input_x, decoder_input_x, decoder_input_x2], \n",
    "              outputs=[decoder_pred, decoder_pred2], \n",
    "              name='model_training')"
   ]
  },
  {
   "cell_type": "code",
   "execution_count": 22,
   "metadata": {},
   "outputs": [
    {
     "name": "stdout",
     "output_type": "stream",
     "text": [
      "Tensor(\"decoder_lstm_2/strided_slice_16:0\", shape=(?, 512), dtype=float32)\n",
      "Tensor(\"decoder_input_h_2:0\", shape=(?, 512), dtype=float32)\n",
      "Tensor(\"decoder_input_h2_2:0\", shape=(?, 512), dtype=float32)\n"
     ]
    }
   ],
   "source": [
    "print(state_h)\n",
    "print(decoder_input_h)\n",
    "print(decoder_input_h2)"
   ]
  },
  {
   "cell_type": "code",
   "execution_count": 23,
   "metadata": {},
   "outputs": [
    {
     "name": "stdout",
     "output_type": "stream",
     "text": [
      "__________________________________________________________________________________________________\n",
      "Layer (type)                    Output Shape         Param #     Connected to                     \n",
      "==================================================================================================\n",
      "encoder_input_x (InputLayer)    (None, None, 28)     0                                            \n",
      "__________________________________________________________________________________________________\n",
      "decoder_input_x (InputLayer)    (None, None, 30)     0                                            \n",
      "__________________________________________________________________________________________________\n",
      "encoder (Model)                 [(None, 512), (None, 585728      encoder_input_x[0][0]            \n",
      "__________________________________________________________________________________________________\n",
      "decoder_input_x2 (InputLayer)   (None, None, 30)     0                                            \n",
      "__________________________________________________________________________________________________\n",
      "decoder_lstm (CuDNNLSTM)        [(None, None, 512),  1114112     decoder_input_x[0][0]            \n",
      "                                                                 encoder[1][0]                    \n",
      "                                                                 encoder[1][1]                    \n",
      "__________________________________________________________________________________________________\n",
      "decoder_lstm2 (CuDNNLSTM)       [(None, None, 512),  1114112     decoder_input_x2[0][0]           \n",
      "                                                                 encoder[1][0]                    \n",
      "                                                                 encoder[1][1]                    \n",
      "__________________________________________________________________________________________________\n",
      "decoder_dense (Dense)           (None, None, 30)     15390       decoder_lstm[1][0]               \n",
      "__________________________________________________________________________________________________\n",
      "decoder_dense2 (Dense)          (None, None, 30)     15390       decoder_lstm2[1][0]              \n",
      "==================================================================================================\n",
      "Total params: 2,844,732\n",
      "Trainable params: 2,844,732\n",
      "Non-trainable params: 0\n",
      "__________________________________________________________________________________________________\n"
     ]
    }
   ],
   "source": [
    "from IPython.display import SVG\n",
    "from keras.utils.vis_utils import model_to_dot, plot_model\n",
    "\n",
    "SVG(model_to_dot(model, show_shapes=False).create(prog='dot', format='svg'))\n",
    "\n",
    "plot_model(\n",
    "    model=model, show_shapes=False,\n",
    "    to_file='model_training.pdf'\n",
    ")\n",
    "\n",
    "model.summary()"
   ]
  },
  {
   "cell_type": "markdown",
   "metadata": {},
   "source": [
    "### 3.5. Fit the model on the bilingual dataset\n",
    "\n",
    "- encoder_input_data: one-hot encode of the input language\n",
    "\n",
    "- decoder_input_data: one-hot encode of the input language\n",
    "\n",
    "- decoder_target_data: labels (left shift of decoder_input_data)\n",
    "\n",
    "- tune the hyper-parameters\n",
    "\n",
    "- stop when the validation loss stop decreasing."
   ]
  },
  {
   "cell_type": "code",
   "execution_count": 24,
   "metadata": {},
   "outputs": [
    {
     "name": "stdout",
     "output_type": "stream",
     "text": [
      "shape of encoder_input_data(40000, 281, 28)\n",
      "shape of decoder_input_data(40000, 330, 30)\n",
      "shape of decoder_target_data(40000, 330, 30)\n"
     ]
    }
   ],
   "source": [
    "print('shape of encoder_input_data' + str(encoder_input_data.shape))\n",
    "print('shape of decoder_input_data' + str(decoder_input_data.shape))\n",
    "print('shape of decoder_target_data' + str(decoder_target_data.shape))"
   ]
  },
  {
   "cell_type": "code",
   "execution_count": 25,
   "metadata": {
    "scrolled": true
   },
   "outputs": [
    {
     "name": "stdout",
     "output_type": "stream",
     "text": [
      "Train on 32000 samples, validate on 8000 samples\n",
      "Epoch 1/12\n",
      "32000/32000 [==============================] - 108s 3ms/step - loss: 0.5748 - decoder_dense_loss: 0.2887 - decoder_dense2_loss: 0.2861 - val_loss: 0.3764 - val_decoder_dense_loss: 0.1839 - val_decoder_dense2_loss: 0.1925\n",
      "Epoch 2/12\n",
      "32000/32000 [==============================] - 94s 3ms/step - loss: 0.3318 - decoder_dense_loss: 0.1660 - decoder_dense2_loss: 0.1658 - val_loss: 0.3160 - val_decoder_dense_loss: 0.1558 - val_decoder_dense2_loss: 0.1602\n",
      "Epoch 3/12\n",
      "32000/32000 [==============================] - 94s 3ms/step - loss: 0.2689 - decoder_dense_loss: 0.1355 - decoder_dense2_loss: 0.1334 - val_loss: 0.2768 - val_decoder_dense_loss: 0.1356 - val_decoder_dense2_loss: 0.1412\n",
      "Epoch 4/12\n",
      "32000/32000 [==============================] - 93s 3ms/step - loss: 0.2332 - decoder_dense_loss: 0.1176 - decoder_dense2_loss: 0.1157 - val_loss: 0.2564 - val_decoder_dense_loss: 0.1260 - val_decoder_dense2_loss: 0.1304\n",
      "Epoch 5/12\n",
      "32000/32000 [==============================] - 93s 3ms/step - loss: 0.2098 - decoder_dense_loss: 0.1056 - decoder_dense2_loss: 0.1042 - val_loss: 0.2437 - val_decoder_dense_loss: 0.1199 - val_decoder_dense2_loss: 0.1239\n",
      "Epoch 6/12\n",
      "32000/32000 [==============================] - 93s 3ms/step - loss: 0.1929 - decoder_dense_loss: 0.0970 - decoder_dense2_loss: 0.0959 - val_loss: 0.2374 - val_decoder_dense_loss: 0.1156 - val_decoder_dense2_loss: 0.1218\n",
      "Epoch 7/12\n",
      "32000/32000 [==============================] - 93s 3ms/step - loss: 0.1795 - decoder_dense_loss: 0.0902 - decoder_dense2_loss: 0.0893 - val_loss: 0.2352 - val_decoder_dense_loss: 0.1144 - val_decoder_dense2_loss: 0.1208\n",
      "Epoch 8/12\n",
      "32000/32000 [==============================] - 92s 3ms/step - loss: 0.1682 - decoder_dense_loss: 0.0845 - decoder_dense2_loss: 0.0837 - val_loss: 0.2319 - val_decoder_dense_loss: 0.1135 - val_decoder_dense2_loss: 0.1183\n",
      "Epoch 9/12\n",
      "32000/32000 [==============================] - 93s 3ms/step - loss: 0.1583 - decoder_dense_loss: 0.0793 - decoder_dense2_loss: 0.0789 - val_loss: 0.2326 - val_decoder_dense_loss: 0.1135 - val_decoder_dense2_loss: 0.1191\n",
      "Epoch 10/12\n",
      "32000/32000 [==============================] - 93s 3ms/step - loss: 0.1500 - decoder_dense_loss: 0.0754 - decoder_dense2_loss: 0.0746 - val_loss: 0.2343 - val_decoder_dense_loss: 0.1146 - val_decoder_dense2_loss: 0.1197\n",
      "Epoch 11/12\n",
      "32000/32000 [==============================] - 92s 3ms/step - loss: 0.1420 - decoder_dense_loss: 0.0713 - decoder_dense2_loss: 0.0707 - val_loss: 0.2366 - val_decoder_dense_loss: 0.1153 - val_decoder_dense2_loss: 0.1213\n",
      "Epoch 12/12\n",
      "32000/32000 [==============================] - 91s 3ms/step - loss: 0.1345 - decoder_dense_loss: 0.0675 - decoder_dense2_loss: 0.0671 - val_loss: 0.2392 - val_decoder_dense_loss: 0.1168 - val_decoder_dense2_loss: 0.1225\n"
     ]
    },
    {
     "name": "stderr",
     "output_type": "stream",
     "text": [
      "/home/sdeng/anaconda2/envs/tf36/lib/python3.6/site-packages/keras/engine/network.py:877: UserWarning: Layer decoder_lstm was passed non-serializable keyword arguments: {'initial_state': [<tf.Tensor 'encoder/concatenate_1/concat:0' shape=(?, 512) dtype=float32>, <tf.Tensor 'encoder/concatenate_2/concat:0' shape=(?, 512) dtype=float32>]}. They will not be included in the serialized model (and thus will be missing at deserialization time).\n",
      "  '. They will not be included '\n",
      "/home/sdeng/anaconda2/envs/tf36/lib/python3.6/site-packages/keras/engine/network.py:877: UserWarning: Layer decoder_lstm2 was passed non-serializable keyword arguments: {'initial_state': [<tf.Tensor 'encoder/concatenate_1/concat:0' shape=(?, 512) dtype=float32>, <tf.Tensor 'encoder/concatenate_2/concat:0' shape=(?, 512) dtype=float32>]}. They will not be included in the serialized model (and thus will be missing at deserialization time).\n",
      "  '. They will not be included '\n"
     ]
    }
   ],
   "source": [
    "model.compile(optimizer='rmsprop', loss='categorical_crossentropy')\n",
    "\n",
    "model.fit([encoder_input_data, decoder_input_data, decoder_input_data2],  # training data\n",
    "          [decoder_target_data, decoder_target_data2],                # labels (left shift of the target sequences)\n",
    "          batch_size=64, epochs=1, validation_split=0.2)\n",
    "\n",
    "model.save('seq2seq2.h5')\n"
   ]
  },
  {
   "cell_type": "markdown",
   "metadata": {},
   "source": [
    "## 4. Make predictions\n",
    "\n",
    "\n",
    "### 4.1. Translate English to Spanish and French\n",
    "\n",
    "1. Encoder read a sentence (source language) and output its final states, $h_t$ and $c_t$.\n",
    "2. Take the [star] sign \"\\t\" and the final state $h_t$ and $c_t$ as input and run the decoder.\n",
    "3. Get the new states and predicted probability distribution.\n",
    "4. sample a char from the predicted probability distribution\n",
    "5. take the sampled char and the new states as input and repeat the process (stop if reach the [stop] sign \"\\n\")."
   ]
  },
  {
   "cell_type": "code",
   "execution_count": 26,
   "metadata": {},
   "outputs": [],
   "source": [
    "# Reverse-lookup token index to decode sequences back to something readable.\n",
    "reverse_input_char_index = dict((i, char) for char, i in input_token_index.items())\n",
    "reverse_target_char_index = dict((i, char) for char, i in target_token_index.items())\n",
    "reverse_target_char_index2 = dict((i, char) for char, i in target_token_index2.items())"
   ]
  },
  {
   "cell_type": "code",
   "execution_count": 38,
   "metadata": {},
   "outputs": [],
   "source": [
    "def decode_sequence(input_seq):\n",
    "    states_value = encoder_model.predict(input_seq)\n",
    "    states_value_org = states_value\n",
    "    target_seq = np.zeros((1, 1, num_decoder_tokens))\n",
    "    target_seq[0, 0, target_token_index['\\t']] = 1.\n",
    "    \n",
    "    target_seq2 = np.zeros((1, 1, num_decoder_tokens2))\n",
    "    target_seq2[0, 0, target_token_index2['\\t']] = 1.\n",
    "    \n",
    "\n",
    "    stop_condition = False\n",
    "    decoded_sentence = ''\n",
    "    \n",
    "    while not stop_condition:\n",
    "        output_tokens, h, c = decoder_model.predict([target_seq] + states_value)\n",
    "\n",
    "        # this line of code is greedy selection\n",
    "        # try to use multinomial sampling instead (with temperature)\n",
    "        sampled_token_index = np.argmax(output_tokens[0, -1, :])\n",
    "        \n",
    "        sampled_char = reverse_target_char_index[sampled_token_index]\n",
    "        decoded_sentence += sampled_char\n",
    "\n",
    "        if (sampled_char == '\\n' or\n",
    "           len(decoded_sentence) > max_decoder_seq_length):\n",
    "            stop_condition = True\n",
    "\n",
    "        target_seq = np.zeros((1, 1, num_decoder_tokens))\n",
    "        target_seq[0, 0, sampled_token_index] = 1.\n",
    "\n",
    "        states_value = [h, c]\n",
    "        \n",
    "    stop_condition = False\n",
    "    decoded_sentence2 = ''\n",
    "    states_value = states_value_org\n",
    "    while not stop_condition:\n",
    "        output_tokens, h, c = decoder_model2.predict([target_seq2] + states_value)\n",
    "\n",
    "        # this line of code is greedy selection\n",
    "        # try to use multinomial sampling instead (with temperature)\n",
    "        sampled_token_index2 = np.argmax(output_tokens[0, -1, :])\n",
    "        \n",
    "        sampled_char = reverse_target_char_index2[sampled_token_index2]\n",
    "        decoded_sentence2 += sampled_char\n",
    "\n",
    "        if (sampled_char == '\\n' or\n",
    "           len(decoded_sentence2) > max_decoder_seq_length2):\n",
    "            stop_condition = True\n",
    "\n",
    "        target_seq2 = np.zeros((1, 1, num_decoder_tokens2))\n",
    "        target_seq2[0, 0, sampled_token_index2] = 1.\n",
    "\n",
    "        states_value = [h, c]\n",
    "\n",
    "    return decoded_sentence, decoded_sentence2\n"
   ]
  },
  {
   "cell_type": "code",
   "execution_count": 40,
   "metadata": {},
   "outputs": [
    {
     "name": "stdout",
     "output_type": "stream",
     "text": [
      "-----------\n",
      "English:        come back home\n",
      "Spanish (true):  vuelve a casa\n",
      "Spanish (pred):  vuelve a casa en la cama\n",
      "French (true):  reviens a la maison\n",
      "French (pred):  venez le boison\n",
      "-----------\n",
      "English:        come back in an hour\n",
      "Spanish (true):  regresa en una hora\n",
      "Spanish (pred):  vuelve a casa en un hospital\n",
      "French (true):  revenez dans une heure\n",
      "French (pred):  reviens a la maison\n",
      "-----------\n",
      "English:        come back soon\n",
      "Spanish (true):  regresa pronto\n",
      "Spanish (pred):  vuelve a casa\n",
      "French (true):  ne sois pas long\n",
      "French (pred):  reviens a la maison\n",
      "-----------\n",
      "English:        come back tomorrow\n",
      "Spanish (true):  vuelve manana\n",
      "Spanish (pred):  vuelve a casa\n",
      "French (true):  reviens demain\n",
      "French (pred):  reviens a la maison\n",
      "-----------\n",
      "English:        come back\n",
      "Spanish (true):  vuelve\n",
      "Spanish (pred):  ven casa\n",
      "French (true):  reviens\n",
      "French (pred):  venez ici\n",
      "-----------\n",
      "English:        come down here\n",
      "Spanish (true):  baja aqui\n",
      "Spanish (pred):  ven con nosotros\n",
      "French (true):  descends ici\n",
      "French (pred):  venez avec soi\n",
      "-----------\n",
      "English:        come help me\n",
      "Spanish (true):  ven a ayudarme\n",
      "Spanish (pred):  ven a comer\n",
      "French (true):  viens maider\n",
      "French (pred):  viens maider\n",
      "-----------\n",
      "English:        come here and help me\n",
      "Spanish (true):  ven aqui y ayudame\n",
      "Spanish (pred):  ven aqui y ayudamos\n",
      "French (true):  viens ici et aidemoi\n",
      "French (pred):  viens ici et aider\n",
      "-----------\n",
      "English:        come here and sit down\n",
      "Spanish (true):  ven aqui y sientate\n",
      "Spanish (pred):  ven aqui a la escuela a todas\n",
      "French (true):  viens ici et assiedstoi\n",
      "French (pred):  viens ici et aider\n",
      "-----------\n",
      "English:        come here at once\n",
      "Spanish (true):  ven aqui ahora mismo\n",
      "Spanish (pred):  ven aqui a la gente\n",
      "French (true):  viens ici tout de suite\n",
      "French (pred):  viens ici et assurieux\n"
     ]
    }
   ],
   "source": [
    "for seq_index in range(2100, 2110):\n",
    "    # Take one sequence (part of the training set)\n",
    "    # for trying out decoding.\n",
    "    input_seq = encoder_input_data[seq_index: seq_index + 1]\n",
    "#     print(input_seq)\n",
    "#     print(input_seq.shape)\n",
    "    decoded_sentence, decoded_sentence2 = decode_sequence(input_seq)\n",
    "    print('-----------')\n",
    "    print('English:       ', input_texts[seq_index])\n",
    "    print('Spanish (true): ', target_texts[seq_index][1:-1])\n",
    "    print('Spanish (pred): ', decoded_sentence[0:-1])\n",
    "    print('French (true): ', target_texts2[seq_index][1:-1])\n",
    "    print('French (pred): ', decoded_sentence2[0:-1])\n"
   ]
  },
  {
   "cell_type": "markdown",
   "metadata": {},
   "source": [
    "### 4.2. Translate an English sentence to the target language\n",
    "\n",
    "1. Tokenization\n",
    "2. One-hot encode\n",
    "3. Translate"
   ]
  },
  {
   "cell_type": "code",
   "execution_count": 69,
   "metadata": {},
   "outputs": [
    {
     "name": "stdout",
     "output_type": "stream",
     "text": [
      "source sentence is: \n",
      "[English]: i need a new one\n",
      "-\n",
      "translated sentence is: \n",
      "\n",
      "[Spanish]: mas viene con su ayuda\n",
      "\n",
      "[French]: ou a repondre a cette question\n",
      "\n"
     ]
    }
   ],
   "source": [
    "input_sentence = 'i need a new one'\n",
    "# do tokenization\n",
    "encoder_input_seq_test, input_token_index_test = text2sequences(max_encoder_seq_length, \n",
    "                                                      [input_sentence])\n",
    "# do one-hot encode\n",
    "encoder_input_data_test = onehot_encode(encoder_input_seq_test, max_encoder_seq_length, num_encoder_tokens)\n",
    "\n",
    "#do translation\n",
    "spanish_pred, french_pred = decode_sequence(encoder_input_data_test)\n",
    "\n",
    "print('source sentence is: ')\n",
    "print('[English]:', input_sentence)\n",
    "print('-')\n",
    "print('translated sentence is: ')\n",
    "print()\n",
    "print('[Spanish]:', spanish_pred)\n",
    "print('[French]:', french_pred)"
   ]
  },
  {
   "cell_type": "markdown",
   "metadata": {},
   "source": [
    "## 5. Evaluate the translation using BLEU score\n",
    "\n",
    "Reference: \n",
    "- https://machinelearningmastery.com/calculate-bleu-score-for-text-python/\n",
    "- https://en.wikipedia.org/wiki/BLEU\n"
   ]
  },
  {
   "cell_type": "code",
   "execution_count": 73,
   "metadata": {},
   "outputs": [
    {
     "name": "stdout",
     "output_type": "stream",
     "text": [
      "5.9720086015470606e-155\n",
      "5.3158692855940656e-155\n"
     ]
    }
   ],
   "source": [
    "from nltk.translate.bleu_score import sentence_bleu\n",
    "\n",
    "for i in clean_pairs:\n",
    "    if i[0] == input_sentence:\n",
    "        ref = i[1]\n",
    "        score = sentence_bleu([ref], spanish_pred)\n",
    "        print(score)\n",
    "for i in clean_pairs2:\n",
    "    if i[0] == input_sentence:\n",
    "        ref = i[1]\n",
    "        score = sentence_bleu([ref], french_pred)\n",
    "        print(score)"
   ]
  },
  {
   "cell_type": "code",
   "execution_count": null,
   "metadata": {},
   "outputs": [],
   "source": []
  }
 ],
 "metadata": {
  "kernelspec": {
   "display_name": "Python 3",
   "language": "python",
   "name": "python3"
  },
  "language_info": {
   "codemirror_mode": {
    "name": "ipython",
    "version": 3
   },
   "file_extension": ".py",
   "mimetype": "text/x-python",
   "name": "python",
   "nbconvert_exporter": "python",
   "pygments_lexer": "ipython3",
   "version": "3.6.8"
  }
 },
 "nbformat": 4,
 "nbformat_minor": 2
}
